{
 "cells": [
  {
   "cell_type": "code",
   "execution_count": 1,
   "id": "3d8cbcc5",
   "metadata": {},
   "outputs": [],
   "source": [
    "import pandas as pd\n",
    "file_path = \"C:\\\\Users\\\\Hp\\\\Downloads\\\\Chemical Pair Analysis - Sheet1.csv\"\n",
    "column_to_fill = 'Functional group 1'\n",
    "\n"
   ]
  },
  {
   "cell_type": "code",
   "execution_count": null,
   "id": "d8053a98",
   "metadata": {},
   "outputs": [],
   "source": []
  },
  {
   "cell_type": "code",
   "execution_count": 2,
   "id": "62f5428f",
   "metadata": {},
   "outputs": [
    {
     "ename": "NameError",
     "evalue": "name 'df' is not defined",
     "output_type": "error",
     "traceback": [
      "\u001b[1;31m---------------------------------------------------------------------------\u001b[0m",
      "\u001b[1;31mNameError\u001b[0m                                 Traceback (most recent call last)",
      "Cell \u001b[1;32mIn[2], line 1\u001b[0m\n\u001b[1;32m----> 1\u001b[0m \u001b[38;5;28mprint\u001b[39m(\u001b[43mdf\u001b[49m)\n",
      "\u001b[1;31mNameError\u001b[0m: name 'df' is not defined"
     ]
    }
   ],
   "source": [
    "print(df)"
   ]
  },
  {
   "cell_type": "code",
   "execution_count": null,
   "id": "f9a616e6",
   "metadata": {},
   "outputs": [],
   "source": [
    "print(df['Functional Group 1'])"
   ]
  },
  {
   "cell_type": "code",
   "execution_count": null,
   "id": "b60ad029",
   "metadata": {},
   "outputs": [],
   "source": [
    "print(df.columns)"
   ]
  },
  {
   "cell_type": "code",
   "execution_count": null,
   "id": "479ce08f",
   "metadata": {},
   "outputs": [],
   "source": [
    "# Remove trailing spaces from column names\n",
    "df.columns = df.columns.str.strip()\n",
    "\n",
    "# Print the \"Functional group 1\" column\n",
    "print(df['Functional group 1'])"
   ]
  },
  {
   "cell_type": "code",
   "execution_count": null,
   "id": "3c0f11a0",
   "metadata": {},
   "outputs": [],
   "source": [
    "# Remove '[reactive group]' from 'Functional group 1' column\n",
    "df['Functional group 1'] = df['Functional group 1'].str.replace('\\[reactive group\\]', '').str.strip()\n",
    "\n",
    "\n"
   ]
  },
  {
   "cell_type": "code",
   "execution_count": null,
   "id": "d2e28dcb",
   "metadata": {},
   "outputs": [],
   "source": [
    "# Remove '[reactive group]' from 'Functional group 2' column\n",
    "df['Functional group 2'] = df['Functional group 2'].str.replace('\\[reactive group\\]', '').str.strip()\n"
   ]
  },
  {
   "cell_type": "code",
   "execution_count": null,
   "id": "64402ff6",
   "metadata": {},
   "outputs": [],
   "source": [
    "# Save the updated DataFrame back to the CSV file\n",
    "df.to_csv(file_path, index=False)\n"
   ]
  },
  {
   "cell_type": "code",
   "execution_count": null,
   "id": "b35948e3",
   "metadata": {},
   "outputs": [],
   "source": [
    "# Print the updated DataFrame\n",
    "print(df)"
   ]
  },
  {
   "cell_type": "code",
   "execution_count": null,
   "id": "c599ec29",
   "metadata": {},
   "outputs": [],
   "source": [
    "print(df.columns)\n"
   ]
  },
  {
   "cell_type": "code",
   "execution_count": null,
   "id": "f7fe15b5",
   "metadata": {},
   "outputs": [],
   "source": [
    "# Take input for Functional Group 1 and Functional Group 2\n",
    "functional_group_1 = input(\"Enter Functional Group 1: \")\n",
    "functional_group_2 = input(\"Enter Functional Group 2: \")\n",
    "\n",
    "# Filter the DataFrame based on input values\n",
    "filtered_df = df[(df['Functional group 1'] == functional_group_1) & (df['Functional group 2'] == functional_group_2)]\n",
    "\n",
    "# Extract the Compatibility and Documentation columns from the filtered DataFrame\n",
    "compatibility = filtered_df['Compatibility'].values[0]\n",
    "documentation = filtered_df['Documentation'].values[0]\n",
    "\n",
    "# Print the Compatibility and Documentation entries\n",
    "print(\"Compatibility: \", compatibility)\n",
    "print(\"Documentation: \", documentation)\n"
   ]
  },
  {
   "cell_type": "code",
   "execution_count": null,
   "id": "33438a3b",
   "metadata": {},
   "outputs": [],
   "source": [
    "df['Functional group 1'][0].type()"
   ]
  },
  {
   "cell_type": "code",
   "execution_count": null,
   "id": "df333e25",
   "metadata": {},
   "outputs": [],
   "source": [
    "df.head()"
   ]
  },
  {
   "cell_type": "code",
   "execution_count": null,
   "id": "434ef8aa",
   "metadata": {},
   "outputs": [],
   "source": [
    "import csv\n",
    "from PyQt5 import QtWidgets, QtGui, QtCore\n",
    "\n",
    "class InformationApp(QtWidgets.QWidget):\n",
    "    def __init__(self):\n",
    "        super().__init__()\n",
    "        self.setWindowTitle(\"Information App\")\n",
    "        self.init_ui()\n",
    "\n",
    "    def init_ui(self):\n",
    "        # Create entry fields for the two groups\n",
    "        self.entry_group_1 = QtWidgets.QLineEdit()\n",
    "        self.entry_group_2 = QtWidgets.QLineEdit()\n",
    "\n",
    "        # Create the button to get the information\n",
    "        self.button = QtWidgets.QPushButton(\"Get Information\")\n",
    "        self.button.setStyleSheet(\"background-color: blue; color: white;\")\n",
    "\n",
    "        # Create the label to display the result\n",
    "        self.result_label = QtWidgets.QLabel()\n",
    "        self.result_label.setStyleSheet(\"background-color: white; color: blue;\")\n",
    "        self.result_label.setAlignment(QtCore.Qt.AlignCenter)\n",
    "\n",
    "        # Create the image label\n",
    "        self.image_label = QtWidgets.QLabel()\n",
    "        self.image_label.setAlignment(QtCore.Qt.AlignCenter)\n",
    "\n",
    "        # Set the image\n",
    "        image_path = \"C://Users//Hp//Downloads//risk-management.png\"\n",
    "        pixmap = QtGui.QPixmap(image_path)\n",
    "        pixmap = pixmap.scaledToWidth(300)\n",
    "        self.image_label.setPixmap(pixmap)\n",
    "\n",
    "        # Create a vertical layout\n",
    "        layout = QtWidgets.QVBoxLayout()\n",
    "        layout.addWidget(QtWidgets.QLabel(\"Functional Group 1:\"))\n",
    "        layout.addWidget(self.entry_group_1)\n",
    "        layout.addWidget(QtWidgets.QLabel(\"Functional Group 2:\"))\n",
    "        layout.addWidget(self.entry_group_2)\n",
    "        layout.addWidget(self.button)\n",
    "        layout.addWidget(self.result_label)\n",
    "        layout.addWidget(self.image_label)\n",
    "\n",
    "        # Set the layout for the main window\n",
    "        self.setLayout(layout)\n",
    "\n",
    "        # Connect the button click event to the handler function\n",
    "        self.button.clicked.connect(self.get_information)\n",
    "\n",
    "    def get_information(self):\n",
    "        # Retrieve the values from the entry fields\n",
    "        value1 = self.entry_group_1.text()\n",
    "        value2 = self.entry_group_2.text()\n",
    "\n",
    "        # Process the information and display the result\n",
    "        result = self.get_csv_fields(value1, value2)\n",
    "        self.result_label.setText(result)\n",
    "\n",
    "    \n",
    "    def get_csv_fields(self, group1, group2):\n",
    "        filename = \"C:\\\\Users\\\\Hp\\\\Downloads\\\\Chemical Pair Analysis - Sheet1.csv\"  \n",
    "        compatibility = \"\"\n",
    "        documentation = \"\"\n",
    "\n",
    "        with open(filename, \"r\", encoding=\"utf-8\") as csvfile:\n",
    "            reader = csv.DictReader(csvfile)\n",
    "            for row in reader:\n",
    "                if row[\"Functional group 1\"] == group1 and row[\"Functional group 2\"] == group2:\n",
    "                    compatibility = row[\"Compatibility\"]\n",
    "                    documentation = row[\"Documentation\"]\n",
    "                    break\n",
    "\n",
    "        # Classify the risk level based on the compatibility\n",
    "        risk_level = self.classify_risk(compatibility)\n",
    "\n",
    "        if not compatibility:\n",
    "            result = f\"Pair not found in the dataset.\"\n",
    "        else:\n",
    "            result = f\"Compatibility: {compatibility}\\nRisk Level: {risk_level}\\nDocumentation: {documentation}\"\n",
    "\n",
    "        return result\n",
    "\n",
    "    def classify_risk(self, comp):\n",
    "        if comp == 'Y':\n",
    "            return 'Low Risk'\n",
    "        elif comp == 'C':\n",
    "            return 'Moderate Risk'\n",
    "        elif comp == 'N':\n",
    "            return 'High Risk'\n",
    "        else:\n",
    "            return 'Unknown Risk'\n",
    "\n",
    "\n",
    "# Create the application instance\n",
    "app = QtWidgets.QApplication([])\n",
    "\n",
    "# Create the main window\n",
    "window = InformationApp()\n",
    "window.show()\n",
    "\n",
    "# Start the application event loop\n",
    "app.exec_()\n"
   ]
  },
  {
   "cell_type": "code",
   "execution_count": null,
   "id": "86360894",
   "metadata": {},
   "outputs": [],
   "source": []
  }
 ],
 "metadata": {
  "kernelspec": {
   "display_name": "Python 3 (ipykernel)",
   "language": "python",
   "name": "python3"
  },
  "language_info": {
   "codemirror_mode": {
    "name": "ipython",
    "version": 3
   },
   "file_extension": ".py",
   "mimetype": "text/x-python",
   "name": "python",
   "nbconvert_exporter": "python",
   "pygments_lexer": "ipython3",
   "version": "3.10.9"
  }
 },
 "nbformat": 4,
 "nbformat_minor": 5
}
