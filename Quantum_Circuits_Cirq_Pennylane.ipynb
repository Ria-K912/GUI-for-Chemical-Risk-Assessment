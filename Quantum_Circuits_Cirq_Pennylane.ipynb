{
 "cells": [
  {
   "cell_type": "code",
   "execution_count": 1,
   "id": "7ad80500",
   "metadata": {},
   "outputs": [],
   "source": [
    "import cirq\n",
    "import matplotlib.pyplot as plt"
   ]
  },
  {
   "cell_type": "code",
   "execution_count": 2,
   "id": "e26ee483",
   "metadata": {},
   "outputs": [],
   "source": [
    "# Create a circuit with 5 qubits\n",
    "qubits = cirq.LineQubit.range(5)\n",
    "circuit = cirq.Circuit()"
   ]
  },
  {
   "cell_type": "code",
   "execution_count": 3,
   "id": "64bc7021",
   "metadata": {},
   "outputs": [],
   "source": [
    "# Apply Hadamard gates on every qubit\n",
    "circuit.append(cirq.H(q) for q in qubits)"
   ]
  },
  {
   "cell_type": "code",
   "execution_count": 4,
   "id": "ee07b708",
   "metadata": {},
   "outputs": [],
   "source": [
    "# Apply CNOT gates\n",
    "circuit.append(cirq.CNOT(qubits[0], qubits[1]))\n",
    "circuit.append(cirq.CNOT(qubits[1], qubits[2]))\n",
    "circuit.append(cirq.CNOT(qubits[2], qubits[3]))\n",
    "circuit.append(cirq.CNOT(qubits[3], qubits[4]))"
   ]
  },
  {
   "cell_type": "code",
   "execution_count": 5,
   "id": "e5807025",
   "metadata": {},
   "outputs": [],
   "source": [
    "# Apply SWAP gate between qubits 0 and 4\n",
    "circuit.append(cirq.SWAP(qubits[0], qubits[4]))"
   ]
  },
  {
   "cell_type": "code",
   "execution_count": 6,
   "id": "79938d73",
   "metadata": {},
   "outputs": [],
   "source": [
    "# Rotate the first qubit by pi/2 around the X-axis\n",
    "circuit.append(cirq.rx(0.5 * 3.14159265359).on(qubits[0]))"
   ]
  },
  {
   "cell_type": "code",
   "execution_count": 7,
   "id": "e94138a2",
   "metadata": {},
   "outputs": [
    {
     "name": "stdout",
     "output_type": "stream",
     "text": [
      "Cirq Circuit:\n",
      "0: ───H───@───────────────×───Rx(0.5π)───\n",
      "          │               │\n",
      "1: ───H───X───@───────────┼──────────────\n",
      "              │           │\n",
      "2: ───H───────X───@───────┼──────────────\n",
      "                  │       │\n",
      "3: ───H───────────X───@───┼──────────────\n",
      "                      │   │\n",
      "4: ───H───────────────X───×──────────────\n"
     ]
    }
   ],
   "source": [
    "# Plot the circuit\n",
    "print(\"Cirq Circuit:\")\n",
    "print(circuit)"
   ]
  },
  {
   "cell_type": "code",
   "execution_count": 10,
   "id": "6fce4391",
   "metadata": {},
   "outputs": [
    {
     "data": {
      "image/svg+xml": [
       "<svg xmlns=\"http://www.w3.org/2000/svg\" width=\"543.9494921875\" height=\"250.0\"><line x1=\"30.0\" x2=\"513.9494921875\" y1=\"25.0\" y2=\"25.0\" stroke=\"#1967d2\" stroke-width=\"1\" /><line x1=\"30.0\" x2=\"513.9494921875\" y1=\"75.0\" y2=\"75.0\" stroke=\"#1967d2\" stroke-width=\"1\" /><line x1=\"30.0\" x2=\"513.9494921875\" y1=\"125.0\" y2=\"125.0\" stroke=\"#1967d2\" stroke-width=\"1\" /><line x1=\"30.0\" x2=\"513.9494921875\" y1=\"175.0\" y2=\"175.0\" stroke=\"#1967d2\" stroke-width=\"1\" /><line x1=\"30.0\" x2=\"513.9494921875\" y1=\"225.0\" y2=\"225.0\" stroke=\"#1967d2\" stroke-width=\"1\" /><line x1=\"150.0\" x2=\"150.0\" y1=\"25.0\" y2=\"75.0\" stroke=\"black\" stroke-width=\"3\" /><line x1=\"210.0\" x2=\"210.0\" y1=\"75.0\" y2=\"125.0\" stroke=\"black\" stroke-width=\"3\" /><line x1=\"270.0\" x2=\"270.0\" y1=\"125.0\" y2=\"175.0\" stroke=\"black\" stroke-width=\"3\" /><line x1=\"330.0\" x2=\"330.0\" y1=\"175.0\" y2=\"225.0\" stroke=\"black\" stroke-width=\"3\" /><line x1=\"390.0\" x2=\"390.0\" y1=\"25.0\" y2=\"225.0\" stroke=\"black\" stroke-width=\"3\" /><rect x=\"10.0\" y=\"5.0\" width=\"40\" height=\"40\" stroke=\"black\" fill=\"white\" stroke-width=\"0\" /><text x=\"30.0\" y=\"25.0\" dominant-baseline=\"middle\" text-anchor=\"middle\" font-size=\"14px\" font-family=\"Arial\">0: </text><rect x=\"10.0\" y=\"55.0\" width=\"40\" height=\"40\" stroke=\"black\" fill=\"white\" stroke-width=\"0\" /><text x=\"30.0\" y=\"75.0\" dominant-baseline=\"middle\" text-anchor=\"middle\" font-size=\"14px\" font-family=\"Arial\">1: </text><rect x=\"10.0\" y=\"105.0\" width=\"40\" height=\"40\" stroke=\"black\" fill=\"white\" stroke-width=\"0\" /><text x=\"30.0\" y=\"125.0\" dominant-baseline=\"middle\" text-anchor=\"middle\" font-size=\"14px\" font-family=\"Arial\">2: </text><rect x=\"10.0\" y=\"155.0\" width=\"40\" height=\"40\" stroke=\"black\" fill=\"white\" stroke-width=\"0\" /><text x=\"30.0\" y=\"175.0\" dominant-baseline=\"middle\" text-anchor=\"middle\" font-size=\"14px\" font-family=\"Arial\">3: </text><rect x=\"10.0\" y=\"205.0\" width=\"40\" height=\"40\" stroke=\"black\" fill=\"white\" stroke-width=\"0\" /><text x=\"30.0\" y=\"225.0\" dominant-baseline=\"middle\" text-anchor=\"middle\" font-size=\"14px\" font-family=\"Arial\">4: </text><rect x=\"70.0\" y=\"5.0\" width=\"40\" height=\"40\" stroke=\"black\" fill=\"white\" stroke-width=\"1\" /><text x=\"90.0\" y=\"25.0\" dominant-baseline=\"middle\" text-anchor=\"middle\" font-size=\"18px\" font-family=\"Arial\">H</text><rect x=\"70.0\" y=\"55.0\" width=\"40\" height=\"40\" stroke=\"black\" fill=\"white\" stroke-width=\"1\" /><text x=\"90.0\" y=\"75.0\" dominant-baseline=\"middle\" text-anchor=\"middle\" font-size=\"18px\" font-family=\"Arial\">H</text><rect x=\"70.0\" y=\"105.0\" width=\"40\" height=\"40\" stroke=\"black\" fill=\"white\" stroke-width=\"1\" /><text x=\"90.0\" y=\"125.0\" dominant-baseline=\"middle\" text-anchor=\"middle\" font-size=\"18px\" font-family=\"Arial\">H</text><rect x=\"70.0\" y=\"155.0\" width=\"40\" height=\"40\" stroke=\"black\" fill=\"white\" stroke-width=\"1\" /><text x=\"90.0\" y=\"175.0\" dominant-baseline=\"middle\" text-anchor=\"middle\" font-size=\"18px\" font-family=\"Arial\">H</text><rect x=\"70.0\" y=\"205.0\" width=\"40\" height=\"40\" stroke=\"black\" fill=\"white\" stroke-width=\"1\" /><text x=\"90.0\" y=\"225.0\" dominant-baseline=\"middle\" text-anchor=\"middle\" font-size=\"18px\" font-family=\"Arial\">H</text><circle cx=\"150.0\" cy=\"25.0\" r=\"10.0\" /><rect x=\"130.0\" y=\"55.0\" width=\"40\" height=\"40\" stroke=\"black\" fill=\"white\" stroke-width=\"1\" /><text x=\"150.0\" y=\"75.0\" dominant-baseline=\"middle\" text-anchor=\"middle\" font-size=\"18px\" font-family=\"Arial\">X</text><circle cx=\"210.0\" cy=\"75.0\" r=\"10.0\" /><rect x=\"190.0\" y=\"105.0\" width=\"40\" height=\"40\" stroke=\"black\" fill=\"white\" stroke-width=\"1\" /><text x=\"210.0\" y=\"125.0\" dominant-baseline=\"middle\" text-anchor=\"middle\" font-size=\"18px\" font-family=\"Arial\">X</text><circle cx=\"270.0\" cy=\"125.0\" r=\"10.0\" /><rect x=\"250.0\" y=\"155.0\" width=\"40\" height=\"40\" stroke=\"black\" fill=\"white\" stroke-width=\"1\" /><text x=\"270.0\" y=\"175.0\" dominant-baseline=\"middle\" text-anchor=\"middle\" font-size=\"18px\" font-family=\"Arial\">X</text><circle cx=\"330.0\" cy=\"175.0\" r=\"10.0\" /><rect x=\"310.0\" y=\"205.0\" width=\"40\" height=\"40\" stroke=\"black\" fill=\"white\" stroke-width=\"1\" /><text x=\"330.0\" y=\"225.0\" dominant-baseline=\"middle\" text-anchor=\"middle\" font-size=\"18px\" font-family=\"Arial\">X</text><text x=\"390.0\" y=\"28.0\" dominant-baseline=\"middle\" text-anchor=\"middle\" font-size=\"40px\" font-family=\"Arial\">×</text><text x=\"390.0\" y=\"228.0\" dominant-baseline=\"middle\" text-anchor=\"middle\" font-size=\"40px\" font-family=\"Arial\">×</text><rect x=\"430.0\" y=\"5.0\" width=\"63.9494921875\" height=\"40\" stroke=\"black\" fill=\"white\" stroke-width=\"1\" /><text x=\"461.97474609375\" y=\"25.0\" dominant-baseline=\"middle\" text-anchor=\"middle\" font-size=\"14px\" font-family=\"Arial\">Rx(0.5π)</text></svg>"
      ],
      "text/plain": [
       "<cirq.contrib.svg.svg.SVGCircuit at 0x1ab8884eef0>"
      ]
     },
     "metadata": {},
     "output_type": "display_data"
    }
   ],
   "source": [
    "from cirq.contrib.svg import SVGCircuit\n",
    "# Create a SVG representation of the circuit\n",
    "svg = SVGCircuit(circuit)\n",
    "\n",
    "# Display the SVG circuit diagram\n",
    "display(svg)"
   ]
  },
  {
   "cell_type": "code",
   "execution_count": 27,
   "id": "b2aa6fbc",
   "metadata": {},
   "outputs": [],
   "source": [
    "import pennylane as qml\n",
    "from pennylane import numpy as np"
   ]
  },
  {
   "cell_type": "code",
   "execution_count": 28,
   "id": "b9ef5d46",
   "metadata": {},
   "outputs": [],
   "source": [
    "# Create a PennyLane quantum device with 4 wires (qubits)\n",
    "dev = qml.device(\"default.qubit\", wires=4)"
   ]
  },
  {
   "cell_type": "code",
   "execution_count": 29,
   "id": "12be520c",
   "metadata": {},
   "outputs": [],
   "source": [
    "# Create a quantum circuit\n",
    "@qml.qnode(dev)\n",
    "def second_quantum_circuit():\n",
    "    # Apply a Hadamard gate to the first qubit\n",
    "    qml.Hadamard(wires=0)\n",
    "\n",
    "    # Rotate the second qubit by pi/3 around X\n",
    "    qml.RX(2.0944, wires=1)  # 2.0944 radians is pi/3\n",
    "\n",
    "    # Apply Hadamard gates to the third and fourth qubits\n",
    "    qml.Hadamard(wires=2)\n",
    "    qml.Hadamard(wires=3)\n",
    "    \n",
    "    # Perform a swap test between the states of qubits 0, 1, and qubits 2, 3\n",
    "    qml.SWAP(wires=[0, 1])\n",
    "    qml.SWAP(wires=[2, 3])\n",
    "    \n",
    "\n",
    "    # Measure Pauli-Z expectation values for qubits 0 and 1\n",
    "    expval_0 = qml.expval(qml.PauliZ(0))\n",
    "    expval_1 = qml.expval(qml.PauliZ(1))\n",
    "\n",
    "    return expval_0, expval_1\n",
    "\n"
   ]
  },
  {
   "cell_type": "code",
   "execution_count": 30,
   "id": "32552000",
   "metadata": {},
   "outputs": [
    {
     "name": "stdout",
     "output_type": "stream",
     "text": [
      "[Hadamard(wires=[0]), RX(2.0944, wires=[1]), Hadamard(wires=[2]), Hadamard(wires=[3]), SWAP(wires=[0, 1]), SWAP(wires=[2, 3])]\n",
      "Result of the second quantum circuit: -0.0\n"
     ]
    }
   ],
   "source": [
    "# Run the circuit\n",
    "expval_0, expval_1 = second_quantum_circuit()\n",
    "\n",
    "# Calculate the result by multiplying the expectation values\n",
    "result = expval_0 * expval_1\n",
    "\n",
    "# Print the circuit operations\n",
    "print(second_quantum_circuit.qtape.operations)\n",
    "\n",
    "# Print the result\n",
    "print(\"Result of the second quantum circuit:\", result)\n"
   ]
  },
  {
   "cell_type": "code",
   "execution_count": null,
   "id": "16e03295",
   "metadata": {},
   "outputs": [],
   "source": []
  }
 ],
 "metadata": {
  "kernelspec": {
   "display_name": "Python 3 (ipykernel)",
   "language": "python",
   "name": "python3"
  },
  "language_info": {
   "codemirror_mode": {
    "name": "ipython",
    "version": 3
   },
   "file_extension": ".py",
   "mimetype": "text/x-python",
   "name": "python",
   "nbconvert_exporter": "python",
   "pygments_lexer": "ipython3",
   "version": "3.10.9"
  }
 },
 "nbformat": 4,
 "nbformat_minor": 5
}
